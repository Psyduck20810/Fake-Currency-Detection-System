{
 "cells": [
  {
   "cell_type": "markdown",
   "metadata": {},
   "source": [
    "# Controller"
   ]
  },
  {
   "cell_type": "markdown",
   "metadata": {},
   "source": [
    "This notebook is responsible for integrating all the notebooks present in this project\n",
    "\n",
    "When executed, this notebook automaticall runs all other notebooks sequantially."
   ]
  },
  {
   "cell_type": "code",
   "execution_count": 9,
   "metadata": {},
   "outputs": [],
   "source": [
    "# Importing important libraries\n",
    "import cv2\n",
    "import numbers as np\n",
    "import matplotlib.pyplot as plt\n",
    "from skimage.metrics import structural_similarity as ssim\n",
    "\n",
    "#Resizing the Plots\n",
    "plt.rcParams[\"figure.figsize\"] = (12, 12)"
   ]
  },
  {
   "cell_type": "code",
   "execution_count": 10,
   "metadata": {},
   "outputs": [],
   "source": [
    "#%store -z  # Deleting all pre- stored variables"
   ]
  },
  {
   "cell_type": "code",
   "execution_count": 11,
   "metadata": {},
   "outputs": [
    {
     "name": "stdout",
     "output_type": "stream",
     "text": [
      "C:/Users/adity/OneDrive/Desktop/Aditya thing/Fake-Currency-Detection-System-main/Project_files/Dataset/500_dataset/500_s1.jpg\n",
      "1\n",
      "Stored 'selectedImage' (bool)\n",
      "Stored 'path' (str)\n",
      "Stored 'option' (int)\n"
     ]
    }
   ],
   "source": [
    "# Running gui_1.ipynb\n",
    "\n",
    "%run ./gui_1.ipynb"
   ]
  },
  {
   "cell_type": "code",
   "execution_count": 12,
   "metadata": {},
   "outputs": [
    {
     "name": "stdout",
     "output_type": "stream",
     "text": [
      "Image selected:  None\n",
      "Path:  None\n",
      "Currency type:  None\n"
     ]
    }
   ],
   "source": [
    "# The GUI file produces and then stores the variables path and option\n",
    "# Reading the stored variables\n",
    "\n",
    "%store -r selectedImage\n",
    "%store -r path\n",
    "%store -r option\n",
    "\n",
    "print('Image selected: ', selectedImage)\n",
    "print('Path: ', path)\n",
    "print('Currency type: ', option)"
   ]
  },
  {
   "cell_type": "code",
   "execution_count": null,
   "metadata": {
    "scrolled": true
   },
   "outputs": [],
   "source": [
    "if selectedImage == True:\n",
    "    if option == 1:                        # For 500 currency note\n",
    "        %run ./500_Testing.ipynb\n",
    "   "
   ]
  },
  {
   "cell_type": "code",
   "execution_count": 14,
   "metadata": {},
   "outputs": [],
   "source": [
    "if selectedImage == True:\n",
    "    # The above file produces and stores result_list variable\n",
    "    # Reading the variable\n",
    "    %store -r result_list\n",
    "\n",
    "    # Showing the results\n",
    "    # The result list variable is a list of lists and each list conatins details about each feature\n",
    "    for x in result_list:\n",
    "        if x[0] is not None:            \n",
    "            plt.imshow(x[0])   # Showing images\n",
    "            plt.show()"
   ]
  },
  {
   "cell_type": "code",
   "execution_count": 15,
   "metadata": {},
   "outputs": [],
   "source": [
    "\n",
    "if selectedImage == True:\n",
    "# Show output in GUI\n",
    "\n",
    "    %run ./gui_2.ipynb"
   ]
  },
  {
   "cell_type": "code",
   "execution_count": 16,
   "metadata": {},
   "outputs": [],
   "source": [
    "#%store -z  # Deleting all pre- stored variables"
   ]
  }
 ],
 "metadata": {
  "kernelspec": {
   "display_name": "Python 3",
   "language": "python",
   "name": "python3"
  },
  "language_info": {
   "codemirror_mode": {
    "name": "ipython",
    "version": 3
   },
   "file_extension": ".py",
   "mimetype": "text/x-python",
   "name": "python",
   "nbconvert_exporter": "python",
   "pygments_lexer": "ipython3",
   "version": "3.12.8"
  }
 },
 "nbformat": 4,
 "nbformat_minor": 4
}
